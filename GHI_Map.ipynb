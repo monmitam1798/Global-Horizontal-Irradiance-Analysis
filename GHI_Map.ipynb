{
 "cells": [
  {
   "cell_type": "code",
   "execution_count": 1,
   "id": "0af2dc28-66fb-49c0-ba3a-83dc748a99e8",
   "metadata": {
    "scrolled": true
   },
   "outputs": [
    {
     "name": "stdout",
     "output_type": "stream",
     "text": [
      "Collecting cartopy\n",
      "  Downloading Cartopy-0.24.1-cp312-cp312-macosx_11_0_arm64.whl.metadata (7.9 kB)\n",
      "Requirement already satisfied: numpy>=1.23 in /opt/homebrew/Cellar/jupyterlab/4.3.1_1/libexec/lib/python3.12/site-packages (from cartopy) (2.0.2)\n",
      "Requirement already satisfied: matplotlib>=3.6 in /opt/homebrew/lib/python3.12/site-packages (from cartopy) (3.9.2)\n",
      "Requirement already satisfied: shapely>=1.8 in /opt/homebrew/lib/python3.12/site-packages (from cartopy) (2.0.6)\n",
      "Requirement already satisfied: packaging>=21 in /opt/homebrew/Cellar/jupyterlab/4.3.1_1/libexec/lib/python3.12/site-packages (from cartopy) (24.2)\n",
      "Requirement already satisfied: pyshp>=2.3 in /opt/homebrew/lib/python3.12/site-packages (from cartopy) (2.3.1)\n",
      "Requirement already satisfied: pyproj>=3.3.1 in /opt/homebrew/lib/python3.12/site-packages (from cartopy) (3.6.1)\n",
      "Requirement already satisfied: contourpy>=1.0.1 in /opt/homebrew/lib/python3.12/site-packages (from matplotlib>=3.6->cartopy) (1.3.0)\n",
      "Requirement already satisfied: cycler>=0.10 in /opt/homebrew/lib/python3.12/site-packages (from matplotlib>=3.6->cartopy) (0.12.1)\n",
      "Requirement already satisfied: fonttools>=4.22.0 in /opt/homebrew/lib/python3.12/site-packages (from matplotlib>=3.6->cartopy) (4.53.1)\n",
      "Requirement already satisfied: kiwisolver>=1.3.1 in /opt/homebrew/lib/python3.12/site-packages (from matplotlib>=3.6->cartopy) (1.4.7)\n",
      "Requirement already satisfied: pillow>=8 in /opt/homebrew/lib/python3.12/site-packages (from matplotlib>=3.6->cartopy) (10.4.0)\n",
      "Requirement already satisfied: pyparsing>=2.3.1 in /opt/homebrew/lib/python3.12/site-packages (from matplotlib>=3.6->cartopy) (3.1.4)\n",
      "Requirement already satisfied: python-dateutil>=2.7 in /opt/homebrew/Cellar/jupyterlab/4.3.1_1/libexec/lib/python3.12/site-packages (from matplotlib>=3.6->cartopy) (2.9.0.post0)\n",
      "Requirement already satisfied: certifi in /opt/homebrew/opt/certifi/lib/python3.12/site-packages (from pyproj>=3.3.1->cartopy) (2024.8.30)\n",
      "Requirement already satisfied: six>=1.5 in /opt/homebrew/Cellar/jupyterlab/4.3.1_1/libexec/lib/python3.12/site-packages (from python-dateutil>=2.7->matplotlib>=3.6->cartopy) (1.16.0)\n",
      "Downloading Cartopy-0.24.1-cp312-cp312-macosx_11_0_arm64.whl (11.0 MB)\n",
      "\u001b[2K   \u001b[90m━━━━━━━━━━━━━━━━━━━━━━━━━━━━━━━━━━━━━━━━\u001b[0m \u001b[32m11.0/11.0 MB\u001b[0m \u001b[31m3.3 MB/s\u001b[0m eta \u001b[36m0:00:00\u001b[0m00:01\u001b[0m0:01\u001b[0mm\n",
      "\u001b[?25hInstalling collected packages: cartopy\n",
      "Successfully installed cartopy-0.24.1\n",
      "\n",
      "\u001b[1m[\u001b[0m\u001b[34;49mnotice\u001b[0m\u001b[1;39;49m]\u001b[0m\u001b[39;49m A new release of pip is available: \u001b[0m\u001b[31;49m24.2\u001b[0m\u001b[39;49m -> \u001b[0m\u001b[32;49m24.3.1\u001b[0m\n",
      "\u001b[1m[\u001b[0m\u001b[34;49mnotice\u001b[0m\u001b[1;39;49m]\u001b[0m\u001b[39;49m To update, run: \u001b[0m\u001b[32;49m/opt/homebrew/Cellar/jupyterlab/4.3.1_1/libexec/bin/python -m pip install --upgrade pip\u001b[0m\n",
      "Note: you may need to restart the kernel to use updated packages.\n"
     ]
    }
   ],
   "source": [
    "pip install cartopy"
   ]
  },
  {
   "cell_type": "code",
   "execution_count": null,
   "id": "de11a08b-0987-47ac-9ce0-709cbc25718e",
   "metadata": {},
   "outputs": [],
   "source": [
    "import rasterio\n",
    "from rasterio.plot import show\n",
    "import matplotlib.pyplot as plt\n",
    "from cartopy import crs as ccrs\n",
    "from cartopy import feature as cfeature\n",
    "import numpy as np\n",
    "\n",
    "# Filepath to your GHI raster file (update with your file path)\n",
    "ghi_raster_file = \"/Users/monmita/Desktop/MonmitaMukherjee/GHI_Solar/World_GHI_GISdata_LTAy_AvgDailyTotals_GlobalSolarAtlas-v2_GEOTIFF/GHI.tif\"\n",
    "\n",
    "# Open the raster file\n",
    "with rasterio.open(ghi_raster_file) as src:\n",
    "    ghi_data = src.read(1)  # Read the first band\n",
    "    ghi_data = np.where(ghi_data < 0, np.nan, ghi_data)  # Mask negative values\n",
    "    bounds = src.bounds\n",
    "    transform = src.transform\n",
    "\n",
    "# Define the map extent based on the raster bounds\n",
    "extent = [bounds.left, bounds.right, bounds.bottom, bounds.top]\n",
    "\n",
    "# Plot the GHI data\n",
    "plt.figure(figsize=(16, 9))\n",
    "ax = plt.axes(projection=ccrs.PlateCarree())\n",
    "ax.set_global()\n",
    "\n",
    "# Add raster data to the map\n",
    "img = ax.imshow(\n",
    "    ghi_data,\n",
    "    extent=extent,\n",
    "    transform=ccrs.PlateCarree(),\n",
    "    cmap=\"YlOrRd\",\n",
    "    interpolation=\"nearest\",\n",
    ")\n",
    "\n",
    "# Add features to the map\n",
    "ax.add_feature(cfeature.BORDERS, linewidth=0.5, edgecolor=\"black\")\n",
    "ax.add_feature(cfeature.COASTLINE, linewidth=0.5, edgecolor=\"black\")\n",
    "ax.add_feature(cfeature.LAND, facecolor=\"lightgrey\", edgecolor=\"black\", zorder=-1)\n",
    "ax.add_feature(cfeature.OCEAN, facecolor=\"lightblue\", zorder=-1)\n",
    "\n",
    "# Add colorbar\n",
    "cbar = plt.colorbar(img, ax=ax, orientation=\"horizontal\", pad=0.05, aspect=50)\n",
    "cbar.set_label(\"Global Horizontal Irradiance (GHI) [kWh/m²]\")\n",
    "\n",
    "# Add title\n",
    "plt.title(\"Global Horizontal Irradiance (GHI)\", fontsize=16)\n",
    "\n",
    "# Save the plot as a PNG file\n",
    "plt.savefig(\"Global_GHI_Map.png\", dpi=300, bbox_inches=\"tight\")\n",
    "\n",
    "# Show the plot\n",
    "plt.show()\n"
   ]
  },
  {
   "cell_type": "code",
   "execution_count": null,
   "id": "9cc794e2-3b27-4935-bc66-ffecdbbd8e4b",
   "metadata": {},
   "outputs": [],
   "source": []
  }
 ],
 "metadata": {
  "kernelspec": {
   "display_name": "Python 3 (ipykernel)",
   "language": "python",
   "name": "python3"
  },
  "language_info": {
   "codemirror_mode": {
    "name": "ipython",
    "version": 3
   },
   "file_extension": ".py",
   "mimetype": "text/x-python",
   "name": "python",
   "nbconvert_exporter": "python",
   "pygments_lexer": "ipython3",
   "version": "3.12.7"
  }
 },
 "nbformat": 4,
 "nbformat_minor": 5
}
